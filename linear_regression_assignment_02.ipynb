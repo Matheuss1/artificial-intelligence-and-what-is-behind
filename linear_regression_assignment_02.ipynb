{
  "nbformat": 4,
  "nbformat_minor": 0,
  "metadata": {
    "colab": {
      "name": "linear_regression_assignment_02.ipynb",
      "provenance": [],
      "collapsed_sections": []
    },
    "kernelspec": {
      "name": "python3",
      "display_name": "Python 3.7.6 64-bit ('base': conda)"
    },
    "language_info": {
      "name": "python",
      "version": "3.7.6",
      "mimetype": "text/x-python",
      "codemirror_mode": {
        "name": "ipython",
        "version": 3
      },
      "pygments_lexer": "ipython3",
      "nbconvert_exporter": "python",
      "file_extension": ".py"
    },
    "interpreter": {
      "hash": "a5653b54fe6cf6e2fae9bcefb5bfcf782e994099dd1c9a4571168f76f9b0455a"
    }
  },
  "cells": [
    {
      "cell_type": "markdown",
      "metadata": {
        "id": "view-in-github"
      },
      "source": [
        "<a href=\"https://colab.research.google.com/github/Matheuss1/artificial-intelligence-and-what-is-behind/blob/assignment-02/linear_regression_assignment_02.ipynb\" target=\"_parent\"><img src=\"https://colab.research.google.com/assets/colab-badge.svg\" alt=\"Open In Colab\"/></a>"
      ]
    },
    {
      "cell_type": "markdown",
      "source": [
        "# **Tarefa \\#2**: Machine Learning MC886/MO444\n",
        "##**Regressão Linear**##\n",
        "\n",
        "Universidade Estadual de Campinas (Unicamp)\n",
        "\n",
        "Instituto de Computação (IC)\n",
        "\n",
        "Prof. Marcelo Reis\n",
        "\n"
      ],
      "metadata": {
        "id": "Cs9E_R5yD48u"
      }
    },
    {
      "cell_type": "code",
      "execution_count": null,
      "source": [
        "# TODO: RA & Name \n",
        "print('241882: ' + 'Matheus Silva de Deus')\n",
        "print('186447: ' + 'Renan Borges Alves')"
      ],
      "outputs": [
        {
          "output_type": "stream",
          "name": "stdout",
          "text": [
            "241882: Matheus Silva de Deus\n",
            "186447: Renan Borges Alves\n"
          ]
        }
      ],
      "metadata": {
        "id": "tFS9Oum_RJX9",
        "colab": {
          "base_uri": "https://localhost:8080/"
        },
        "outputId": "3efd9f21-d278-4705-81da-76268d287892"
      }
    },
    {
      "cell_type": "markdown",
      "source": [
        "## Objective: Predict life expectancy. \n",
        "\n",
        "Explore **linear regression** alternatives and come up with the best possible model to the problems, avoiding overfitting. In particular, predict the **Life expectancy** from their attributes."
      ],
      "metadata": {
        "id": "IVGH2s7fD_03"
      }
    },
    {
      "cell_type": "markdown",
      "source": [
        "## Dataset\n",
        "\n",
        "The purpose of this dataset is to do health data analysis. The dataset related to life expectancy, health factors for 193 countries was collected from the same WHO data repository website and their corresponding economic data were collected from the United Nations website. Among all categories of health-related factors, only the critical factors that are most representative were chosen. All predictor variables were then divided into several broad categories: Immunization-related factors, Mortality factors, Economic factors, and Social factors.\n",
        "\n",
        "Dataset Information: You should respect the following traininig/test split: 2056 training examples, and 882 test examples.\n",
        "\n",
        "There are 22 attributes as follows: \n",
        "\n",
        "Data Dictionary\n",
        "\n",
        "- Country\t\n",
        "- Year\t\n",
        "- Status\t\t\n",
        "- Adult Mortality\t\n",
        "- infant deaths\t\n",
        "- Alcohol\t\n",
        "- percentage expenditure\t\n",
        "- Hepatitis B\t\n",
        "- Measles\t\n",
        "- BMI\t\n",
        "- under-five deaths\t\n",
        "- Polio\t\n",
        "- Total \n",
        "- expenditure\t\n",
        "- Diphtheria\t\n",
        "- HIV/AIDS\t\n",
        "- GDP\t\n",
        "- Population\t\n",
        "- thinness  1-19 years\t\n",
        "- thinness 5-9 years\t\n",
        "- Income composition of resources\tSchooling\n",
        "\n",
        "- **Life expectancy**\n",
        "\n",
        "\n",
        "The data is available at\n",
        "- train: https://tinyurl.com/5374623f\n",
        "- test: https://tinyurl.com/mtdkjf55\n"
      ],
      "metadata": {
        "id": "r3XDZRGqEwsk"
      }
    },
    {
      "cell_type": "markdown",
      "source": [
        "## Atividades\n",
        "\n",
        "1. (5 pontos) Faça a Regressão Linear. Você deve implemetar a sua própria solução e comparar com ```sklearn.linear_model.SGDRegressor``` (modelo linear calculado com gradiente descendente estocástico da biblioteca [scikit-learn](http://scikit-learn.org)).\n",
        "Não esqueça que o conjunto de testes NÃO deve ser utilizado para o **treinamento** do modelo.\n",
        "\n",
        "**Dica: Verifique o conjunto de dados. Existem outliers? Estão faltando valores em alguns campos? Como utilizar variáveis categóricas?**\n"
      ],
      "metadata": {
        "id": "5d495CmpCltx"
      }
    },
    {
      "cell_type": "code",
      "execution_count": 1,
      "source": [
        "#import libs\n",
        "import numpy as np\n",
        "import pandas as pd\n",
        "import matplotlib.pyplot as plt\n",
        "from sklearn.utils import shuffle\n",
        "%matplotlib inline\n"
      ],
      "outputs": [],
      "metadata": {
        "id": "3y0QxxH1KgE1"
      }
    },
    {
      "cell_type": "code",
      "execution_count": 2,
      "source": [
        "# Tools to import the data to be used in this analysis\n",
        "\n",
        "class GoogleDriveSheetDataImporter:\n",
        "  @staticmethod\n",
        "  def importData(sheet_id):\n",
        "    url = f\"https://docs.google.com/spreadsheets/d/{sheet_id}/gviz/tq?tqx=out:csv\"\n",
        "\n",
        "    return pd.read_csv(url)\n",
        "\n",
        "TRAINING_DATA_SHEET_ID = '1ejB4RtHX6ma0XK51I6f_7AtDblKivlOtzSkxitdZYtA'\n",
        "TEST_DATA_SHEET_ID = '1PrY9blDscKw5gWTyA3S34Gj3H5rRpuUU_b9rhVFsPQc'"
      ],
      "outputs": [],
      "metadata": {
        "id": "1wxlQPwrISLF"
      }
    },
    {
      "cell_type": "code",
      "execution_count": 3,
      "source": [
        "# Tools to preprocess data\n",
        "\n",
        "def convertStringDottedNumberToPythonInt(numberToConvert):\n",
        "  if pd.isna(numberToConvert):\n",
        "    return numberToConvert\n",
        "    \n",
        "  return int(numberToConvert.replace('.',''))\n",
        "\n",
        "  \n",
        "def applyToColumn(df, columnName, func):\n",
        "  df[columnName] = df[columnName].apply(func)\n",
        "  return df\n",
        "\n",
        "\n",
        "def replaceMissingValues(df):\n",
        "  numeric_columns = df.select_dtypes(include=np.number).columns\n",
        "\n",
        "  return  df[numeric_columns].fillna(df.mean())\n",
        "\n",
        "\n",
        "def meanNormalization(df):\n",
        "  return (df - df.mean()) / df.std()\n",
        "\n",
        "\n",
        "def getXValuesWithBiasIncludedInWeightsVector(X):\n",
        "  rows_number = len(X)\n",
        "\n",
        "  return np.c_[np.ones(rows_number), X]\n",
        "  "
      ],
      "outputs": [],
      "metadata": {
        "id": "a2yRyfQYISLF"
      }
    },
    {
      "cell_type": "code",
      "execution_count": 4,
      "source": [
        "# Get the train and test dataframes\n",
        "\n",
        "train_df = GoogleDriveSheetDataImporter.importData(TRAINING_DATA_SHEET_ID)\n",
        "test_df = GoogleDriveSheetDataImporter.importData(TEST_DATA_SHEET_ID)"
      ],
      "outputs": [],
      "metadata": {
        "id": "tmdo-qgYISLG"
      }
    },
    {
      "cell_type": "code",
      "execution_count": 5,
      "source": [
        "# Transform numbers in string format to python number type\n",
        "\n",
        "train_df = applyToColumn(train_df, 'percentage expenditure', convertStringDottedNumberToPythonInt)\n",
        "train_df = applyToColumn(train_df, 'GDP', convertStringDottedNumberToPythonInt)\n",
        "\n",
        "test_df = applyToColumn(test_df, 'percentage expenditure',convertStringDottedNumberToPythonInt)\n",
        "test_df = applyToColumn(test_df, 'GDP', convertStringDottedNumberToPythonInt)\n",
        "\n",
        "# Drop categorial variables (better results are given without them)\n",
        "COLUMNS_TO_DROP = ['Country', 'Status', 'Diphtheria']\n",
        "\n",
        "\n",
        "train_df = train_df.drop(columns=COLUMNS_TO_DROP)\n",
        "\n",
        "test_df = test_df.drop(columns=COLUMNS_TO_DROP)\n",
        "\n",
        "# Replace dataframe missing values (NaN)\n",
        "\n",
        "train_df = replaceMissingValues(train_df)\n",
        "test_df = replaceMissingValues(test_df)\n",
        "\n",
        "# Normalize dataframe data\n",
        "\n",
        "train_df = meanNormalization(train_df)\n",
        "test_df = meanNormalization(test_df)"
      ],
      "outputs": [],
      "metadata": {
        "id": "1r3rsMRuISLH"
      }
    },
    {
      "cell_type": "code",
      "execution_count": 6,
      "source": [
        "X_train = train_df.loc[:, train_df.columns != 'Life expectancy'].values\n",
        "y_train = train_df['Life expectancy'].values\n",
        "\n",
        "X_test = test_df.loc[:, test_df.columns != 'Life expectancy'].values\n",
        "y_test = test_df['Life expectancy'].values\n",
        "\n",
        "# Add a column of ones, to use bias inside weights vector\n",
        "X_train = getXValuesWithBiasIncludedInWeightsVector(X_train)\n",
        "\n",
        "X_test = getXValuesWithBiasIncludedInWeightsVector(X_test)\n"
      ],
      "outputs": [],
      "metadata": {
        "id": "gcdRTD4pajhb"
      }
    },
    {
      "cell_type": "code",
      "execution_count": 7,
      "source": [
        "# TODO: Implemente aqui sua solução SEM utilizar bibliotecas prontas\n",
        "#       como scikit-learn, Keras/TensorFlow, ou PyTorch.\n",
        "\n",
        "rng = np.random.RandomState(0)\n",
        "\n",
        "# Mean Squared Error\n",
        "def mse_loss(y_pred, y_true):\n",
        "    np_y_pred = np.array(y_pred)\n",
        "    np_y_true = np.array(y_true)\n",
        "\n",
        "    return np.mean((np_y_true - np_y_pred)**2)\n",
        "\n",
        "\n",
        "def plot_history(model):\n",
        "    plt.plot(model.history)\n",
        "    plt.ylabel('loss')\n",
        "    plt.xlabel('iteration')\n",
        "    plt.show()\n",
        "\n",
        "\n",
        "class SGDRegression():\n",
        "    def __init__(self, learning_rate, max_iter):\n",
        "        self.max_iter = max_iter  # maximo de iteracoes\n",
        "        self.alpha = learning_rate  # taxa de aprendizado\n",
        "        self.ws = None  # pesos\n",
        "\n",
        "    def predict(self, X):\n",
        "        return X @ self.ws\n",
        "\n",
        "    # using sum of squares error to calculate the gradient\n",
        "    def update_weights(self, y_pred, target, sample):\n",
        "        n_weights = len(self.ws)\n",
        "        stochastic_gradient = []\n",
        "\n",
        "        for i in range(n_weights):\n",
        "            wi_derivative = -2 * sample[i] * (y_pred - target)\n",
        "\n",
        "            stochastic_gradient.append(wi_derivative)\n",
        "\n",
        "        self.ws = self.ws - (self.alpha * np.array(stochastic_gradient))\n",
        "\n",
        "    def fit(self, X, y):\n",
        "        if self.ws is None:\n",
        "            # init random weights\n",
        "            ws = rng.randn(X.shape[1])\n",
        "            self.ws = ws\n",
        "        assert X.shape[0] == y.shape[0]\n",
        "\n",
        "        history = []  # lista para guardar os valores de loss\n",
        "        for i in range(self.max_iter):\n",
        "            X, y = shuffle(X, y, random_state=0)\n",
        "            avg_loss = []\n",
        "            for sample, target in zip(X, y):\n",
        "                y_pred = self.predict(sample)\n",
        "                loss = mse_loss(y_pred, target)\n",
        "                avg_loss.append(loss)\n",
        "                self.update_weights(y_pred, target, sample)\n",
        "            history.append((sum(avg_loss)/len(avg_loss)))\n",
        "        self.history = history\n"
      ],
      "outputs": [],
      "metadata": {
        "id": "VuguYJ1baer1"
      }
    },
    {
      "cell_type": "markdown",
      "source": [
        "Regressão linear através de Equação Normal"
      ],
      "metadata": {
        "id": "p6kB3Y4mKof_"
      }
    },
    {
      "cell_type": "code",
      "source": [
        "#calculate theta_values - Normal Equation\n",
        "theta_values=np.linalg.inv(X_train.T.dot(X_train)).dot(X_train.T).dot(y_train)\n",
        "\n",
        "#predict values of y with normal equation\n",
        "y_pred_normal=X_test.dot(theta_values)\n",
        "#calculate MSE\n",
        "mse_loss(y_pred_normal, y_test)"
      ],
      "metadata": {
        "colab": {
          "base_uri": "https://localhost:8080/"
        },
        "id": "DUnJ04gZKv4V",
        "outputId": "1f8c0760-eb66-4fac-8487-d654856faa04"
      },
      "execution_count": 28,
      "outputs": [
        {
          "output_type": "execute_result",
          "data": {
            "text/plain": [
              "0.1897981341431454"
            ]
          },
          "metadata": {},
          "execution_count": 28
        }
      ]
    },
    {
      "cell_type": "code",
      "execution_count": 29,
      "source": [
        "lr = 10e-9\n",
        "max_iter = 1000\n",
        "sgd_linear = SGDRegression(learning_rate=lr, max_iter=max_iter)\n",
        "sgd_linear.fit(X_train, y_train)\n",
        "print('W = ', sgd_linear.ws)"
      ],
      "outputs": [
        {
          "output_type": "stream",
          "name": "stdout",
          "text": [
            "W =  [-1.33340688 -0.61923261 -0.22537818 -0.12400581 -0.21565996 -0.12463844\n",
            "  0.19980643 -1.21562994 -0.27304896  1.57701811 -0.41707308 -0.4687555\n",
            "  1.13668101 -2.66794959  1.24419087 -0.61452751  0.18653583  0.08764217\n",
            "  0.92200255]\n"
          ]
        }
      ],
      "metadata": {
        "id": "D9cpdif9JxFR",
        "colab": {
          "base_uri": "https://localhost:8080/"
        },
        "outputId": "01a8a7c9-bf1c-44cc-b059-14a6a22d2dd2"
      }
    },
    {
      "cell_type": "code",
      "execution_count": 31,
      "source": [
        "# Loss evolution over time\n",
        "plot_history(sgd_linear)"
      ],
      "outputs": [
        {
          "output_type": "display_data",
          "data": {
            "text/plain": [
              "<Figure size 432x288 with 1 Axes>"
            ],
            "image/png": "[encoded data removed]"
          },
          "metadata": {
            "needs_background": "light"
          }
        }
      ],
      "metadata": {
        "id": "KENWt3bBudE1",
        "colab": {
          "base_uri": "https://localhost:8080/",
          "height": 279
        },
        "outputId": "84b1da0d-76b7-4712-f558-8216badc1426"
      }
    },
    {
      "cell_type": "code",
      "execution_count": 10,
      "source": [
        "# MSE loss in test set\n",
        "y_pred = sgd_linear.predict(X_test)\n",
        "\n",
        "mse_loss(y_pred, y_test)"
      ],
      "outputs": [
        {
          "output_type": "execute_result",
          "data": {
            "text/plain": [
              "32.42448282203471"
            ]
          },
          "metadata": {},
          "execution_count": 10
        }
      ],
      "metadata": {
        "id": "jKRlMgx8uZcu",
        "colab": {
          "base_uri": "https://localhost:8080/"
        },
        "outputId": "a4c0c636-ca24-4a20-c2f9-17ed1a1f2744"
      }
    },
    {
      "cell_type": "code",
      "execution_count": 11,
      "source": [
        "from sklearn.linear_model import SGDRegressor\n",
        "\n",
        "reg = SGDRegressor(max_iter=1000, tol=1e-3, shuffle=True)\n",
        "\n",
        "reg.fit(X_train, y_train)\n",
        "\n",
        "print('W = ', reg.coef_)"
      ],
      "outputs": [
        {
          "output_type": "stream",
          "name": "stdout",
          "text": [
            "W =  [ 0.00157048  0.02208209 -0.30729236  0.06878493  0.06230455  0.0229742\n",
            " -0.0143111  -0.05640093  0.11202894 -0.10387089  0.12185768  0.01968435\n",
            " -0.25742925 -0.00338488  0.01451466 -0.0381769   0.03895337  0.07916113\n",
            "  0.3126101 ]\n"
          ]
        }
      ],
      "metadata": {
        "id": "e4nZrMr_C2X7",
        "colab": {
          "base_uri": "https://localhost:8080/"
        },
        "outputId": "bb4af961-6bfa-4858-96c7-206f4b24b476"
      }
    },
    {
      "cell_type": "code",
      "execution_count": 12,
      "source": [
        "# MSE loss in test set using sklearn SGDRegressor\n",
        "y_pred = reg.predict(X_test)\n",
        "\n",
        "mse_loss(y_pred, y_test)"
      ],
      "outputs": [
        {
          "output_type": "execute_result",
          "data": {
            "text/plain": [
              "0.20187419400829754"
            ]
          },
          "metadata": {},
          "execution_count": 12
        }
      ],
      "metadata": {
        "id": "VswOZJb3vC_c",
        "colab": {
          "base_uri": "https://localhost:8080/"
        },
        "outputId": "53081bcc-d14d-4945-8f9a-ba3e3d5b583c"
      }
    },
    {
      "cell_type": "markdown",
      "source": [
        "\n",
        ">**Quais são as suas conclusões? (1-2 parágrafos)**\n",
        "\n",
        "\n"
      ],
      "metadata": {
        "id": "zBNZQNImKQeo"
      }
    },
    {
      "cell_type": "markdown",
      "source": [
        "2. (2 points) Treine o modelo de regressão linear otimizado com Gradiente Descendente (GD) com 3 taxas de aprendizado diferentes. Compare os resultados dos modelos de GD com a solução com a equação normal (pseudo-inversa). "
      ],
      "metadata": {
        "id": "ADxPBRhuK_Vq"
      }
    },
    {
      "cell_type": "code",
      "execution_count": 32,
      "source": [
        "# TODO: Gradiente Descente (GD) com 3 taxas de aprendizado diferentes. \n",
        "lr1 = 10e-7 #substitua por uma taxa de aprendizado válida\n",
        "max_iter = 1000 #substitua por um número máximo de iterações válido\n",
        "sgd_linear_lr1 = SGDRegression(learning_rate=lr1, max_iter=max_iter)\n",
        "sgd_linear_lr1.fit(X_train, y_train) #treinamento\n",
        "print('Taxa de aprendizado = ', lr1, ' W = ', sgd_linear_lr1.ws)\n",
        "\n",
        "lr2 = 10e-9 #substitua por uma taxa de aprendizado válida\n",
        "max_iter = 1000 #substitua por um número máximo de iterações válido\n",
        "sgd_linear_lr2 = SGDRegression(learning_rate=lr2, max_iter=max_iter)\n",
        "sgd_linear_lr2.fit(X_train, y_train) #treinamento\n",
        "print('Taxa de aprendizado = ', lr2, ' W = ', sgd_linear_lr2.ws)\n",
        "\n",
        "lr3 = 10e-12 #substitua por uma taxa de aprendizado válida\n",
        "max_iter = 1000 #substitua por um número máximo de iterações válido\n",
        "sgd_linear_lr3 = SGDRegression(learning_rate=lr3, max_iter=max_iter)\n",
        "sgd_linear_lr3.fit(X_train, y_train) #treinamento\n",
        "print('Taxa de aprendizado = ', lr3, ' W = ', sgd_linear_lr3.ws)"
      ],
      "outputs": [
        {
          "output_type": "stream",
          "name": "stdout",
          "text": [
            "Taxa de aprendizado =  1e-06  W =  [-2.28430040e+03 -8.23812882e+06  2.38055400e+07  3.33810856e+07\n",
            " -2.37328095e+07  3.15411463e+04 -1.59060339e+07  2.07442798e+07\n",
            " -3.20500850e+07  3.38835866e+07 -2.41308062e+07 -1.51170026e+07\n",
            "  1.54878643e+07  1.35585729e+06  1.52017231e+07  3.43101459e+07\n",
            "  3.46046398e+07 -2.28331569e+07 -3.31782912e+07]\n",
            "Taxa de aprendizado =  1e-08  W =  [ 0.0385591   0.76820329  0.71293411 -0.33483231 -0.91888391 -1.16497847\n",
            " -0.18013011  1.1940107  -2.10884855 -0.62655436 -1.26033334  0.76605401\n",
            " -0.49773587 -0.48675286 -0.23034683  0.53139491 -0.31619516 -3.22780925\n",
            "  0.396589  ]\n",
            "Taxa de aprendizado =  1e-11  W =  [ 0.43906101 -0.21955206 -1.08406531  0.35168108  0.37925564 -0.47005682\n",
            " -0.21671644 -0.93022718 -0.17856057 -1.55052812  0.41734676 -0.94438708\n",
            "  0.23810163 -1.40602408 -0.59011564 -0.11057205 -1.66079441  0.115165\n",
            " -0.37913363]\n"
          ]
        }
      ],
      "metadata": {
        "id": "RSZ1pLItNVbU",
        "colab": {
          "base_uri": "https://localhost:8080/"
        },
        "outputId": "b558cc29-50e8-49ea-d9dc-c5d9116f8659"
      }
    },
    {
      "cell_type": "code",
      "execution_count": null,
      "source": [
        "# Calcule e compare o MSE no conjunto de testes para cada modelo"
      ],
      "outputs": [],
      "metadata": {
        "id": "bCPSK-5Tr68p"
      }
    },
    {
      "cell_type": "code",
      "execution_count": 13,
      "source": [
        "# TODO: Implemente aqui sua solução para regressão linear com equação normal\n",
        "\n",
        "class NERegression():\n",
        "    def __init__(self):\n",
        "      self.ws = None #pesos\n",
        "    \n",
        "    def predict(self, X):\n",
        "      # Use essa função para calcular y a partir de X e ws. \n",
        "      # Não esqueça de adicionar o bias.\n",
        "      #calculate theta_values - Normal Equation\n",
        "      #predict values of y with normal equation\n",
        "      return X.dot(self.ws)\n",
        "\n",
        "    def fit(self, X, y):\n",
        "      #Use essa função para calcular a matriz de pesos com a equação normal\n",
        "      self.ws = np.linalg.inv(X_train.T.dot(X_train)).dot(X_train.T).dot(y_train)\n"
      ],
      "outputs": [],
      "metadata": {
        "id": "bOsDG8Kge3x_"
      }
    },
    {
      "cell_type": "code",
      "execution_count": 14,
      "source": [
        "#TODO: Calcule o modelo de regressão linear utilizando equação normal\n",
        "ne = NERegression()\n",
        "ne.fit(X_train, y_train)\n",
        "print(\"W = \", ne.ws)"
      ],
      "outputs": [
        {
          "output_type": "stream",
          "name": "stdout",
          "text": [
            "W =  [ 2.78217119e-15  2.34093543e-02 -3.04013226e-01  1.29170777e+00\n",
            "  8.13649557e-02  2.35068569e-02 -1.56797315e-02 -3.47664398e-02\n",
            "  1.13029199e-01 -1.32136802e+00  1.04332073e-01  1.92672145e-02\n",
            " -2.59061797e-01 -6.62127218e-03  2.00427413e-03 -3.16977422e-02\n",
            "  3.34816665e-02  7.06640733e-02  3.02588343e-01]\n"
          ]
        }
      ],
      "metadata": {
        "id": "hqNlsGU1hZIp",
        "colab": {
          "base_uri": "https://localhost:8080/"
        },
        "outputId": "03d831c9-18c2-4f6e-c037-5964975bbc50"
      }
    },
    {
      "cell_type": "code",
      "execution_count": 30,
      "source": [
        "y_pred_normal = ne.predict(X_test)\n",
        "\n",
        "# Calcule o MSE no conjunto de testes\n",
        "#calculate MSE\n",
        "mse_loss(y_pred_normal, y_test)"
      ],
      "outputs": [
        {
          "output_type": "execute_result",
          "data": {
            "text/plain": [
              "0.1897981341431454"
            ]
          },
          "metadata": {},
          "execution_count": 30
        }
      ],
      "metadata": {
        "id": "ZFS1xpPui2rj",
        "colab": {
          "base_uri": "https://localhost:8080/"
        },
        "outputId": "5a581ce3-8414-4733-ed55-25d350afae47"
      }
    },
    {
      "cell_type": "markdown",
      "source": [
        "   > **Quais são as suas conclusões? (1-2 parágrafos):**\n"
      ],
      "metadata": {
        "id": "hrDXPt7mhj9z"
      }
    },
    {
      "cell_type": "markdown",
      "source": [
        "3. (2 points) Às vezes, funções mais complexas geram melhores predições. Desenvolva e avalie um modelo de regressão polinomial.\n",
        "\n"
      ],
      "metadata": {
        "id": "XrPl7jKgJPW6"
      }
    },
    {
      "cell_type": "code",
      "execution_count": 38,
      "source": [
        "# TODO: Implemente aqui sua função para gerar um modelo de regressão polinomial.\n",
        "#       Não utilize bibliotecas prontas como scikit-learn, Keras/TensorFlow, ou PyTorch.\n",
        "\n",
        "class PolyFeatures():\n",
        "    def __init__(self, degree):\n",
        "      self.degree = degree #grau da nova matriz X\n",
        "      return PolynomialFeatures(degree)\n",
        "\n",
        "    def transform(self, X):\n",
        "      #use essa função para gerar a nova matriz X\n",
        "      #X_poly = None #substitua pela geração do X polinomial\n",
        "      return self.fit_transform(X)"
      ],
      "outputs": [],
      "metadata": {
        "id": "GjGbg41PMHR9"
      }
    },
    {
      "cell_type": "code",
      "source": [
        "# Implementação de modelo de regressão polinomial - uso de biblioteca PolynomialFeatures\n",
        "\n",
        "from sklearn.preprocessing import PolynomialFeatures\n",
        "from sklearn.linear_model import LinearRegression\n",
        "\n",
        "degree = 2 #escolha o grau da regressão polinomial\n",
        "poly_reg = PolynomialFeatures(degree)\n",
        "X_train_poly = poly_reg.fit_transform(X_train) #geração do X polinomial\n",
        "pol_reg = LinearRegression()\n",
        "pol_reg.fit(X_train_poly, y_train)\n",
        "\n",
        "y_pred_pol = pol_reg.predict(poly_reg.fit_transform(X_test))\n",
        "mse_loss(y_pred_pol, y_test)"
      ],
      "metadata": {
        "colab": {
          "base_uri": "https://localhost:8080/"
        },
        "id": "xEKGdXqt_L9n",
        "outputId": "8c32264b-c7cb-4e83-e00a-2f515fb94ffe"
      },
      "execution_count": 44,
      "outputs": [
        {
          "output_type": "execute_result",
          "data": {
            "text/plain": [
              "0.16799757475490334"
            ]
          },
          "metadata": {},
          "execution_count": 44
        }
      ]
    },
    {
      "cell_type": "code",
      "execution_count": 20,
      "source": [
        "lr = 10e-9  #substitua por uma taxa de aprendizado válida\n",
        "max_iter = 1000 #substitua por um número máximo de iterações válido\n",
        "sgd_poly = SGDRegression(learning_rate=lr, max_iter=max_iter)\n",
        "sgd_poly.fit(X_train_poly, y_train) #treinamento\n",
        "print('W = ', sgd_poly.ws)"
      ],
      "outputs": [
        {
          "output_type": "stream",
          "name": "stdout",
          "text": [
            "W =  [-2.46693583e+14 -2.46693583e+14  8.57095326e+13  9.47935716e+12\n",
            " -2.21899710e+15  1.23691555e+14 -4.04306027e+11  3.87866102e+14\n",
            " -8.32399071e+14  2.50794701e+14 -2.17996717e+15  2.00643753e+14\n",
            "  1.53712360e+14  3.68888872e+13 -5.62075531e+13 -2.68821749e+15\n",
            " -8.88636410e+14 -7.08506130e+14  6.70376776e+13  1.99260000e+14\n",
            " -2.46693583e+14  8.57095326e+13  9.47935716e+12 -2.21899710e+15\n",
            "  1.23691555e+14 -4.04306027e+11  3.87866102e+14 -8.32399071e+14\n",
            "  2.50794701e+14 -2.17996717e+15  2.00643753e+14  1.53712360e+14\n",
            "  3.68888872e+13 -5.62075531e+13 -2.68821749e+15 -8.88636410e+14\n",
            " -7.08506130e+14  6.70376776e+13  1.99260000e+14 -2.16830645e+14\n",
            "  3.78550787e+12  1.23316050e+15 -5.87271005e+13 -2.59645508e+13\n",
            " -1.30616194e+14  4.93564757e+14 -1.26635130e+14  1.21872947e+15\n",
            " -1.15312505e+14 -7.85890534e+13 -5.91000572e+12  8.50414611e+13\n",
            "  1.08104560e+15  5.00204169e+14  4.67038848e+14 -5.21841259e+13\n",
            " -1.34637381e+14 -1.82077054e+14  1.56923474e+14  3.80386159e+12\n",
            "  6.99776486e+13 -1.01814037e+14  1.62440219e+14  1.35889771e+12\n",
            "  1.65893434e+14  2.44117530e+13 -1.12004778e+13 -2.95884431e+13\n",
            " -6.92841241e+13  9.11669705e+14  7.07651645e+13 -1.90532635e+14\n",
            "  7.36273668e+12  1.52045536e+13 -2.82485953e+16  1.59783807e+15\n",
            " -8.09627612e+13  4.70668483e+15 -8.74247584e+15  2.76115002e+15\n",
            " -2.76217510e+16  2.04131620e+15  1.56815313e+15  5.27291529e+14\n",
            " -9.28715378e+14 -3.41393062e+16 -1.11461059e+16 -8.85112335e+15\n",
            "  6.15521823e+14  2.17846437e+15 -1.99367613e+14  1.89499176e+13\n",
            " -2.72634690e+14  3.16513868e+14 -1.79070075e+14  1.53460177e+15\n",
            " -1.03477884e+14 -1.03939040e+14 -5.30046552e+13  5.22518289e+13\n",
            "  2.10064777e+15  6.68829776e+14  5.15431807e+14 -2.20468182e+13\n",
            " -1.57398589e+14 -1.41028057e+14  1.32761336e+14  7.02925533e+13\n",
            "  2.00450404e+12 -8.26701462e+13 -2.32548895e+13  1.43781204e+12\n",
            "  6.18584817e+12  4.81774561e+13 -9.58879893e+14 -1.95240798e+13\n",
            "  1.58110397e+14 -2.34405254e+13  2.75923127e+12 -1.23544100e+15\n",
            "  1.49128015e+15 -4.83311084e+14  4.59819466e+15 -3.55096627e+14\n",
            " -2.80829798e+14 -8.35116555e+13  1.97333128e+14  8.55806128e+15\n",
            "  1.89527670e+15  1.20175462e+15 -8.74039158e+13 -3.49775676e+14\n",
            " -5.33904881e+15  9.95774905e+14 -8.65057122e+15  9.11570678e+14\n",
            "  6.40852182e+14  6.67186638e+13 -4.03344641e+14 -1.04105729e+16\n",
            " -3.50355745e+15 -2.87654694e+15  4.14148224e+14  7.30039779e+14\n",
            " -3.41632331e+14  2.71066293e+15 -2.49930389e+14 -1.94198864e+14\n",
            " -3.83650842e+13  8.07197072e+13  3.28501819e+15  1.12543763e+15\n",
            "  9.08607109e+14 -9.52586147e+13 -2.65609145e+14 -2.70462947e+16\n",
            "  2.02863181e+15  1.54695415e+15  4.98857851e+14 -8.66246363e+14\n",
            " -3.31796626e+16 -1.08801463e+16 -8.61658919e+15  6.29357491e+14\n",
            "  2.14024261e+15 -3.28251766e+14 -1.60629165e+14 -5.37459995e+12\n",
            "  1.00257198e+14  2.33379307e+15  8.09380824e+14  6.86278605e+14\n",
            " -9.63253122e+13 -2.12876134e+14 -1.66962230e+14 -2.37302562e+13\n",
            "  5.01013481e+13  1.91119276e+15  6.32077951e+14  5.02417765e+14\n",
            " -6.53016976e+13 -1.63363552e+14 -6.14721443e+13  1.08595168e+13\n",
            "  7.20896488e+14  2.04355982e+14  1.51900998e+14  1.12609733e+13\n",
            " -2.96446013e+13 -3.45995694e+14 -1.66935178e+15 -3.81654066e+14\n",
            " -5.42940636e+14  3.52945067e+13  6.91730623e+13 -6.87231460e+16\n",
            " -1.46736772e+16 -7.64186759e+15  4.28188373e+14  2.38654286e+15\n",
            " -4.94043150e+15 -3.40792485e+15  3.02004634e+14  9.16526430e+14\n",
            " -3.94122529e+15  2.84309286e+14  7.63701376e+14 -1.26259429e+14\n",
            " -9.30574635e+13 -2.77936766e+14]\n"
          ]
        }
      ],
      "metadata": {
        "id": "SXE-I3KFx5Qe",
        "colab": {
          "base_uri": "https://localhost:8080/"
        },
        "outputId": "e1e055c0-fdf8-4745-fd86-e1cc44dbc55e"
      }
    },
    {
      "cell_type": "code",
      "execution_count": 21,
      "source": [
        "#Evolução da loss ao longo do tempo\n",
        "plot_history(sgd_poly)"
      ],
      "outputs": [
        {
          "output_type": "display_data",
          "data": {
            "text/plain": [
              "<Figure size 432x288 with 1 Axes>"
            ],
            "image/png": "[encoded data removed]"
          },
          "metadata": {
            "needs_background": "light"
          }
        }
      ],
      "metadata": {
        "id": "5iknRtHe05gB",
        "colab": {
          "base_uri": "https://localhost:8080/",
          "height": 290
        },
        "outputId": "b64d87d2-0e01-40ae-c8c8-068f13d2b24e"
      }
    },
    {
      "cell_type": "markdown",
      "source": [
        "\n",
        " > **Quais as suas conclusões?(1-2 parágrafos):**\n",
        "\n",
        " \n"
      ],
      "metadata": {
        "id": "rBLKtosaLaCw"
      }
    },
    {
      "cell_type": "markdown",
      "source": [
        "4. (1 point) Avalie os gráficos da função de custo vs. número de iterações no conjunto de treino. Quais conclusões você pode chegar a respeito dos modelos de GD ao analisar os gráficos?"
      ],
      "metadata": {
        "id": "ldSh1vtWK5Zk"
      }
    },
    {
      "cell_type": "code",
      "execution_count": 33,
      "source": [
        "#print('Função de custo vs. Numero de iterações GD linear')\n",
        "plot_history(sgd_linear)"
      ],
      "outputs": [
        {
          "output_type": "stream",
          "name": "stdout",
          "text": [
            "Função de custo vs. Numero de iterações GD linear\n"
          ]
        },
        {
          "output_type": "display_data",
          "data": {
            "text/plain": [
              "<Figure size 432x288 with 1 Axes>"
            ],
            "image/png": "[encoded data removed]"
          },
          "metadata": {
            "needs_background": "light"
          }
        }
      ],
      "metadata": {
        "id": "mg7aNkl_LG4P",
        "colab": {
          "base_uri": "https://localhost:8080/",
          "height": 297
        },
        "outputId": "ae192e72-91b2-462f-aa59-427b75a3184d"
      }
    },
    {
      "cell_type": "code",
      "execution_count": 34,
      "source": [
        "print('Função de custo vs. Numero de iterações GD linear com taxa de aprendizado =  ', lr1)\n",
        "plot_history(sgd_linear_lr1)"
      ],
      "outputs": [
        {
          "output_type": "stream",
          "name": "stdout",
          "text": [
            "Função de custo vs. Numero de iterações GD linear com taxa de aprendizado =   1e-06\n"
          ]
        },
        {
          "output_type": "display_data",
          "data": {
            "text/plain": [
              "<Figure size 432x288 with 1 Axes>"
            ],
            "image/png": "[encoded data removed]"
          },
          "metadata": {
            "needs_background": "light"
          }
        }
      ],
      "metadata": {
        "id": "3lPon5K2KDE-",
        "colab": {
          "base_uri": "https://localhost:8080/",
          "height": 308
        },
        "outputId": "10868cd1-eec3-4838-e1b1-9dc76e004c0c"
      }
    },
    {
      "cell_type": "code",
      "execution_count": 35,
      "source": [
        "print('Função de custo vs. Numero de iterações GD linear com taxa de aprendizado =  ', lr2)\n",
        "plot_history(sgd_linear_lr2)"
      ],
      "outputs": [
        {
          "output_type": "stream",
          "name": "stdout",
          "text": [
            "Função de custo vs. Numero de iterações GD linear com taxa de aprendizado =   1e-08\n"
          ]
        },
        {
          "output_type": "display_data",
          "data": {
            "text/plain": [
              "<Figure size 432x288 with 1 Axes>"
            ],
            "image/png": "[encoded data removed]"
          },
          "metadata": {
            "needs_background": "light"
          }
        }
      ],
      "metadata": {
        "id": "S5zm8CwbKIz_",
        "colab": {
          "base_uri": "https://localhost:8080/",
          "height": 297
        },
        "outputId": "a77f88ff-cb4c-48e9-e0dc-388b0626d16e"
      }
    },
    {
      "cell_type": "code",
      "execution_count": 36,
      "source": [
        "print('Função de custo vs. Numero de iterações GD linear com taxa de aprendizado =  ', lr3)\n",
        "plot_history(sgd_linear_lr3)"
      ],
      "outputs": [
        {
          "output_type": "stream",
          "name": "stdout",
          "text": [
            "Função de custo vs. Numero de iterações GD linear com taxa de aprendizado =   1e-11\n"
          ]
        },
        {
          "output_type": "display_data",
          "data": {
            "text/plain": [
              "<Figure size 432x288 with 1 Axes>"
            ],
            "image/png": "[encoded data removed]"
          },
          "metadata": {
            "needs_background": "light"
          }
        }
      ],
      "metadata": {
        "id": "q4D-O0TeKMQb",
        "colab": {
          "base_uri": "https://localhost:8080/",
          "height": 297
        },
        "outputId": "e6dc4c56-ed41-474d-c3d0-0006d96528d3"
      }
    },
    {
      "cell_type": "code",
      "execution_count": 37,
      "source": [
        "print('Função de custo vs. Numero de iterações GD Polinomial')\n",
        "plot_history(sgd_poly)"
      ],
      "outputs": [
        {
          "output_type": "stream",
          "name": "stdout",
          "text": [
            "Função de custo vs. Numero de iterações GD Polinomial\n"
          ]
        },
        {
          "output_type": "display_data",
          "data": {
            "text/plain": [
              "<Figure size 432x288 with 1 Axes>"
            ],
            "image/png": "[encoded data removed]"
          },
          "metadata": {
            "needs_background": "light"
          }
        }
      ],
      "metadata": {
        "id": "kh1waz6y4MbV",
        "colab": {
          "base_uri": "https://localhost:8080/",
          "height": 308
        },
        "outputId": "6eadf699-0059-4228-d732-60b1bad7c5eb"
      }
    },
    {
      "cell_type": "markdown",
      "source": [
        "> **Escreva aqui suas conclusões (2-4 parágrafos)**\n"
      ],
      "metadata": {
        "id": "vbGOQzcsNSOm"
      }
    },
    {
      "cell_type": "markdown",
      "source": [
        "## Prazo: 19 de Abril, Terça-feira, 23:59\n",
        "\n",
        "Política de penalidade para submissões atrasadas: Você não está sendo encorajada(o) a submeter o trabalho depois da data de submissão. Entretanto, caso isso aconteça, a nota será penalizada da seguinte forma:\n",
        "\n",
        "- 20 de Abril 23:59 : nota * 0.75\n",
        "- 21 de Abril 23:59 : nota * 0.5\n",
        "- 22 de Abril 23:59 : nota * 0.25\n"
      ],
      "metadata": {
        "id": "kdSGS4brHnAi"
      }
    },
    {
      "cell_type": "markdown",
      "source": [
        "## Submissão\n",
        "- Submita seu notebook no Google Classroom. (Em português ou inglês).\n",
        "\n",
        "- Apenas UMA pessoa da dupla precisa enviar o notebook.\n",
        "\n",
        "- Não esqueça de colocar seus respectivos nomes & RAs.\n",
        "\n",
        "- **Esta atividade NÃO é individual, deve ser realizada em dupla.**"
      ],
      "metadata": {
        "id": "joN9pvZJIfW5"
      }
    }
  ]
}