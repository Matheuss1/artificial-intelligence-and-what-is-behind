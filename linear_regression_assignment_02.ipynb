{
  "cells": [
    {
      "cell_type": "markdown",
      "metadata": {
        "id": "view-in-github",
        "colab_type": "text"
      },
      "source": [
        "<a href=\"https://colab.research.google.com/github/Matheuss1/artificial-intelligence-and-what-is-behind/blob/assignment-02/linear_regression_assignment_02.ipynb\" target=\"_parent\"><img src=\"https://colab.research.google.com/assets/colab-badge.svg\" alt=\"Open In Colab\"/></a>"
      ]
    },
    {
      "cell_type": "markdown",
      "metadata": {
        "id": "Cs9E_R5yD48u"
      },
      "source": [
        "# **Tarefa \\#2**: Machine Learning MC886/MO444\n",
        "##**Regressão Linear**##\n",
        "\n",
        "Universidade Estadual de Campinas (Unicamp)\n",
        "\n",
        "Instituto de Computação (IC)\n",
        "\n",
        "Prof. Marcelo Reis\n",
        "\n"
      ]
    },
    {
      "cell_type": "code",
      "execution_count": 1,
      "metadata": {
        "colab": {
          "base_uri": "https://localhost:8080/"
        },
        "id": "tFS9Oum_RJX9",
        "outputId": "af222d69-3f4d-4e19-9a79-84272141e2c1"
      },
      "outputs": [
        {
          "output_type": "stream",
          "name": "stdout",
          "text": [
            "241882: Matheus Silva de Deus\n",
            "186447: Renan Borges Alves\n"
          ]
        }
      ],
      "source": [
        "# TODO: RA & Name \n",
        "print('241882: ' + 'Matheus Silva de Deus')\n",
        "print('186447: ' + 'Renan Borges Alves')"
      ]
    },
    {
      "cell_type": "markdown",
      "metadata": {
        "id": "IVGH2s7fD_03"
      },
      "source": [
        "## Objective: Predict life expectancy. \n",
        "\n",
        "Explore **linear regression** alternatives and come up with the best possible model to the problems, avoiding overfitting. In particular, predict the **Life expectancy** from their attributes."
      ]
    },
    {
      "cell_type": "markdown",
      "metadata": {
        "id": "r3XDZRGqEwsk"
      },
      "source": [
        "## Dataset\n",
        "\n",
        "The purpose of this dataset is to do health data analysis. The dataset related to life expectancy, health factors for 193 countries was collected from the same WHO data repository website and their corresponding economic data were collected from the United Nations website. Among all categories of health-related factors, only the critical factors that are most representative were chosen. All predictor variables were then divided into several broad categories: Immunization-related factors, Mortality factors, Economic factors, and Social factors.\n",
        "\n",
        "Dataset Information: You should respect the following traininig/test split: 2056 training examples, and 882 test examples.\n",
        "\n",
        "There are 22 attributes as follows: \n",
        "\n",
        "Data Dictionary\n",
        "\n",
        "- Country\t\n",
        "- Year\t\n",
        "- Status\t\t\n",
        "- Adult Mortality\t\n",
        "- infant deaths\t\n",
        "- Alcohol\t\n",
        "- percentage expenditure\t\n",
        "- Hepatitis B\t\n",
        "- Measles\t\n",
        "- BMI\t\n",
        "- under-five deaths\t\n",
        "- Polio\t\n",
        "- Total \n",
        "- expenditure\t\n",
        "- Diphtheria\t\n",
        "- HIV/AIDS\t\n",
        "- GDP\t\n",
        "- Population\t\n",
        "- thinness  1-19 years\t\n",
        "- thinness 5-9 years\t\n",
        "- Income composition of resources\tSchooling\n",
        "\n",
        "- **Life expectancy**\n",
        "\n",
        "\n",
        "The data is available at\n",
        "- train: https://tinyurl.com/5374623f\n",
        "- test: https://tinyurl.com/mtdkjf55\n"
      ]
    },
    {
      "cell_type": "markdown",
      "metadata": {
        "id": "5d495CmpCltx"
      },
      "source": [
        "## Atividades\n",
        "\n",
        "1. (5 pontos) Faça a Regressão Linear. Você deve implemetar a sua própria solução e comparar com ```sklearn.linear_model.SGDRegressor``` (modelo linear calculado com gradiente descendente estocástico da biblioteca [scikit-learn](http://scikit-learn.org)).\n",
        "Não esqueça que o conjunto de testes NÃO deve ser utilizado para o **treinamento** do modelo.\n",
        "\n",
        "**Dica: Verifique o conjunto de dados. Existem outliers? Estão faltando valores em alguns campos? Como utilizar variáveis categóricas?**\n"
      ]
    },
    {
      "cell_type": "code",
      "execution_count": 1,
      "metadata": {
        "id": "3y0QxxH1KgE1"
      },
      "outputs": [],
      "source": [
        "#import libs\n",
        "import numpy as np\n",
        "import pandas as pd\n",
        "import matplotlib.pyplot as plt\n",
        "from sklearn.utils import shuffle\n",
        "%matplotlib inline\n"
      ]
    },
    {
      "cell_type": "code",
      "execution_count": 2,
      "metadata": {
        "id": "1wxlQPwrISLF"
      },
      "outputs": [],
      "source": [
        "# Tools to import the data to be used in this analysis\n",
        "\n",
        "class GoogleDriveSheetDataImporter:\n",
        "  @staticmethod\n",
        "  def importData(sheet_id):\n",
        "    url = f\"https://docs.google.com/spreadsheets/d/{sheet_id}/gviz/tq?tqx=out:csv\"\n",
        "\n",
        "    return pd.read_csv(url)\n",
        "\n",
        "TRAINING_DATA_SHEET_ID = '1ejB4RtHX6ma0XK51I6f_7AtDblKivlOtzSkxitdZYtA'\n",
        "TEST_DATA_SHEET_ID = '1PrY9blDscKw5gWTyA3S34Gj3H5rRpuUU_b9rhVFsPQc'"
      ]
    },
    {
      "cell_type": "code",
      "execution_count": 3,
      "metadata": {
        "id": "a2yRyfQYISLF"
      },
      "outputs": [],
      "source": [
        "# Tools to preprocess data\n",
        "from sklearn.preprocessing import StandardScaler\n",
        "\n",
        "def convertStringDottedNumberToPythonInt(numberToConvert):\n",
        "  if pd.isna(numberToConvert):\n",
        "    return numberToConvert\n",
        "    \n",
        "  return int(numberToConvert.replace('.',''))\n",
        "\n",
        "  \n",
        "def applyToColumn(df, columnName, func):\n",
        "  df[columnName] = df[columnName].apply(func)\n",
        "  return df\n",
        "\n",
        "\n",
        "def replaceMissingValues(df):\n",
        "  numeric_columns = df.select_dtypes(include=np.number).columns\n",
        "\n",
        "  return  df[numeric_columns].fillna(df.mean())\n",
        "\n",
        "\n",
        "def getXValuesWithBiasIncludedInWeightsVector(X):\n",
        "  rows_number = len(X)\n",
        "\n",
        "  return np.c_[np.ones(rows_number), X]\n",
        "\n",
        "\n",
        "def getValuesAndLabels(dataframe):\n",
        "  X_values = dataframe.loc[:, dataframe.columns != 'Life expectancy'].values\n",
        "  Y_values = dataframe['Life expectancy'].values\n",
        "  return X_values, Y_values\n",
        "\n",
        "class FeaturesScaler():\n",
        "  def __init__(self):\n",
        "    self.scaler = StandardScaler()\n",
        "\n",
        "  def fit(self, data):\n",
        "    return self.scaler.fit(data)\n",
        "\n",
        "  def transform(self, data):\n",
        "    return self.scaler.transform(data)\n",
        "\n",
        "  def fit_transform(self, data):\n",
        "    return self.scaler.fit_transform(data)\n"
      ]
    },
    {
      "cell_type": "code",
      "execution_count": 4,
      "metadata": {
        "id": "tmdo-qgYISLG"
      },
      "outputs": [],
      "source": [
        "# Get the train and test dataframes\n",
        "\n",
        "train_df = GoogleDriveSheetDataImporter.importData(TRAINING_DATA_SHEET_ID)\n",
        "test_df = GoogleDriveSheetDataImporter.importData(TEST_DATA_SHEET_ID)"
      ]
    },
    {
      "cell_type": "code",
      "execution_count": 5,
      "metadata": {
        "id": "1r3rsMRuISLH"
      },
      "outputs": [],
      "source": [
        "# Transform numbers in string format to python number type\n",
        "\n",
        "train_df = applyToColumn(train_df, 'percentage expenditure', convertStringDottedNumberToPythonInt)\n",
        "train_df = applyToColumn(train_df, 'GDP', convertStringDottedNumberToPythonInt)\n",
        "\n",
        "test_df = applyToColumn(test_df, 'percentage expenditure',convertStringDottedNumberToPythonInt)\n",
        "test_df = applyToColumn(test_df, 'GDP', convertStringDottedNumberToPythonInt)\n",
        "\n",
        "# Drop categorial variables (better results are given without them)\n",
        "COLUMNS_TO_DROP = ['Country', 'Status', 'Diphtheria']\n",
        "\n",
        "\n",
        "train_df = train_df.drop(columns=COLUMNS_TO_DROP)\n",
        "\n",
        "test_df = test_df.drop(columns=COLUMNS_TO_DROP)\n",
        "\n",
        "# Replace dataframe missing values (NaN)\n",
        "\n",
        "train_df = replaceMissingValues(train_df)\n",
        "test_df = replaceMissingValues(test_df)\n",
        "\n",
        "\n",
        "# Normalize dataframe data\n",
        "\n",
        "scaler = FeaturesScaler()\n",
        "\n",
        "train_df = pd.DataFrame(scaler.fit_transform(train_df),columns = train_df.columns,index=train_df.index)\n",
        "test_df = pd.DataFrame(scaler.transform(test_df),columns = test_df.columns,index=test_df.index)"
      ]
    },
    {
      "cell_type": "code",
      "execution_count": 6,
      "metadata": {
        "id": "gcdRTD4pajhb"
      },
      "outputs": [],
      "source": [
        "X_train, y_train = getValuesAndLabels(train_df)\n",
        "\n",
        "X_test, y_test = getValuesAndLabels(test_df)\n",
        "\n",
        "# Add a column of ones, to use bias inside weights vector\n",
        "X_train = getXValuesWithBiasIncludedInWeightsVector(X_train)\n",
        "\n",
        "X_test = getXValuesWithBiasIncludedInWeightsVector(X_test)\n"
      ]
    },
    {
      "cell_type": "code",
      "execution_count": 7,
      "metadata": {
        "id": "VuguYJ1baer1"
      },
      "outputs": [],
      "source": [
        "rng = np.random.RandomState(0)\n",
        "\n",
        "# Mean Squared Error\n",
        "def mse_loss(y_pred, y_true):\n",
        "    np_y_pred = np.array(y_pred)\n",
        "    np_y_true = np.array(y_true)\n",
        "\n",
        "    return np.mean((np_y_true - np_y_pred)**2)\n",
        "\n",
        "\n",
        "def plot_history(model):\n",
        "    plt.plot(model.history)\n",
        "    plt.ylabel('loss')\n",
        "    plt.xlabel('iteration')\n",
        "    plt.show()\n",
        "\n",
        "\n",
        "class SGDRegression():\n",
        "    def __init__(self, learning_rate, max_iter):\n",
        "        self.max_iter = max_iter  # maximo de iteracoes\n",
        "        self.alpha = learning_rate  # taxa de aprendizado\n",
        "        self.ws = None  # pesos\n",
        "\n",
        "    def predict(self, X):\n",
        "        return X @ self.ws\n",
        "\n",
        "    # using sum of squares error to calculate the gradient\n",
        "    def update_weights(self, y_pred, target, sample):\n",
        "        n_weights = len(self.ws)\n",
        "        stochastic_gradient = []\n",
        "\n",
        "        for i in range(n_weights):\n",
        "            wi_derivative = -2 * sample[i] * (y_pred - target)\n",
        "\n",
        "            stochastic_gradient.append(wi_derivative)\n",
        "\n",
        "        self.ws = self.ws - (self.alpha * np.array(stochastic_gradient))\n",
        "\n",
        "    def fit(self, X, y):\n",
        "        if self.ws is None:\n",
        "            # init random weights\n",
        "            ws = rng.randn(X.shape[1])\n",
        "            self.ws = ws\n",
        "        assert X.shape[0] == y.shape[0]\n",
        "\n",
        "        history = []  # lista para guardar os valores de loss\n",
        "        for i in range(self.max_iter):\n",
        "            X, y = shuffle(X, y, random_state=0)\n",
        "            avg_loss = []\n",
        "            for sample, target in zip(X, y):\n",
        "                y_pred = self.predict(sample)\n",
        "                loss = mse_loss(y_pred, target)\n",
        "                avg_loss.append(loss)\n",
        "                self.update_weights(y_pred, target, sample)\n",
        "            history.append((sum(avg_loss)/len(avg_loss)))\n",
        "        self.history = history\n"
      ]
    },
    {
      "cell_type": "code",
      "execution_count": 15,
      "metadata": {
        "colab": {
          "base_uri": "https://localhost:8080/"
        },
        "id": "D9cpdif9JxFR",
        "outputId": "c8e8bb2c-7fcd-4a93-ea6e-db626057b4bf"
      },
      "outputs": [
        {
          "output_type": "stream",
          "name": "stdout",
          "text": [
            "W =  [ 0.31516882 -0.66853684 -0.32979712 -0.73456265 -0.40596629 -0.83727188\n",
            " -1.79239015  0.15838667 -0.44426643 -1.69093957  0.43423896 -0.95990615\n",
            "  0.08138826  0.75821834  0.10561225  1.14905455 -1.24682016  0.3776132\n",
            " -0.74385956]\n"
          ]
        }
      ],
      "source": [
        "lr = 1e-8\n",
        "max_iter = 1000\n",
        "sgd_linear = SGDRegression(learning_rate=lr, max_iter=max_iter)\n",
        "sgd_linear.fit(X_train, y_train)\n",
        "print('W = ', sgd_linear.ws)"
      ]
    },
    {
      "cell_type": "code",
      "execution_count": 16,
      "metadata": {
        "colab": {
          "base_uri": "https://localhost:8080/",
          "height": 279
        },
        "id": "KENWt3bBudE1",
        "outputId": "ba87bb02-d53d-41ee-daeb-f81df632edf4"
      },
      "outputs": [
        {
          "output_type": "display_data",
          "data": {
            "text/plain": [
              "<Figure size 432x288 with 1 Axes>"
            ],
            "image/png": "[encoded data removed]"
          },
          "metadata": {
            "needs_background": "light"
          }
        }
      ],
      "source": [
        "# Loss evolution over time\n",
        "plot_history(sgd_linear)"
      ]
    },
    {
      "cell_type": "code",
      "execution_count": 17,
      "metadata": {
        "colab": {
          "base_uri": "https://localhost:8080/"
        },
        "id": "jKRlMgx8uZcu",
        "outputId": "f81e6df0-18cc-4295-dddc-0dcf28a6fdf8"
      },
      "outputs": [
        {
          "output_type": "execute_result",
          "data": {
            "text/plain": [
              "13.987988877296004"
            ]
          },
          "metadata": {},
          "execution_count": 17
        }
      ],
      "source": [
        "# MSE loss in test set\n",
        "y_pred = sgd_linear.predict(X_test)\n",
        "\n",
        "mse_loss(y_pred, y_test)"
      ]
    },
    {
      "cell_type": "code",
      "execution_count": 18,
      "metadata": {
        "colab": {
          "base_uri": "https://localhost:8080/"
        },
        "id": "e4nZrMr_C2X7",
        "outputId": "1e8d119a-4b9e-457c-9ed8-11773ddc6402"
      },
      "outputs": [
        {
          "output_type": "stream",
          "name": "stdout",
          "text": [
            "W =  [-0.00040807  0.01734913 -0.30452682  0.05040613  0.06352468  0.02019432\n",
            " -0.02534188 -0.04121303  0.11500122 -0.09537424  0.11856581  0.01982276\n",
            " -0.25744143 -0.00049405  0.01523045 -0.03260246  0.04311193  0.06875336\n",
            "  0.31387146]\n"
          ]
        }
      ],
      "source": [
        "from sklearn.linear_model import SGDRegressor\n",
        "\n",
        "reg = SGDRegressor(max_iter=1000, tol=1e-3, shuffle=True)\n",
        "\n",
        "reg.fit(X_train, y_train)\n",
        "\n",
        "print('W = ', reg.coef_)"
      ]
    },
    {
      "cell_type": "code",
      "execution_count": 19,
      "metadata": {
        "colab": {
          "base_uri": "https://localhost:8080/"
        },
        "id": "VswOZJb3vC_c",
        "outputId": "d1383fa5-e394-453c-cdf7-62e0f172ca86"
      },
      "outputs": [
        {
          "output_type": "execute_result",
          "data": {
            "text/plain": [
              "0.21285545377101336"
            ]
          },
          "metadata": {},
          "execution_count": 19
        }
      ],
      "source": [
        "# MSE loss in test set using sklearn SGDRegressor\n",
        "y_pred = reg.predict(X_test)\n",
        "\n",
        "mse_loss(y_pred, y_test)"
      ]
    },
    {
      "cell_type": "markdown",
      "metadata": {
        "id": "zBNZQNImKQeo"
      },
      "source": [
        "\n",
        ">**Quais são as suas conclusões? (1-2 parágrafos)**\n",
        "\n",
        "É notável, no modelo criado por nós, que conforme evoluimos o número de iterações, o valor do loss aumenta\n",
        "cada vez mais, aparententando, inclusive, seguir um modelo de crescimento semelhante a uma reta, dentro do intervalo de iterações testado. Contudo, é possível perceber que o que mais influencia na variação do loss é o valor definido para o Learning Rate, que se utilizado um valor um pouco maior, começa a gerar valores de loss absurdamente altos, algo que talvez pudesse ser melhorado caso tivessemos utilizados uma tática de learning rate adaptativo.\n",
        "\n",
        "Por fim, nota-se que o uso do modelo implementado utilizando a biblioteca do sklearn possui um desempenho absurdo em comparação ao criado por nós, tanto em questão de perfomance, quanto na métrica de loss que foi utilizada, o que é algo esperado, uma vez que se observada a documentação do sklearn, podemos notar que os métodos de implementação utilizados são muito mais robustos.\n",
        "\n",
        "\n",
        "\n"
      ]
    },
    {
      "cell_type": "markdown",
      "metadata": {
        "id": "ADxPBRhuK_Vq"
      },
      "source": [
        "2. (2 points) Treine o modelo de regressão linear otimizado com Gradiente Descendente (GD) com 3 taxas de aprendizado diferentes. Compare os resultados dos modelos de GD com a solução com a equação normal (pseudo-inversa). "
      ]
    },
    {
      "cell_type": "code",
      "execution_count": 20,
      "metadata": {
        "colab": {
          "base_uri": "https://localhost:8080/"
        },
        "id": "RSZ1pLItNVbU",
        "outputId": "b77e456e-ffde-4cd4-ca17-0356a81b47fa"
      },
      "outputs": [
        {
          "output_type": "stream",
          "name": "stdout",
          "text": [
            "Taxa de aprendizado =  1e-06  W =  [-1.22906596e+02 -2.51253113e+05  7.25771486e+05  1.02535147e+06\n",
            " -7.24728296e+05  5.67782859e+02 -4.86268290e+05  6.37254216e+05\n",
            " -9.79288207e+05  1.04064804e+06 -7.37136185e+05 -4.62262603e+05\n",
            "  4.71630785e+05  4.14482701e+04  4.68280892e+05  1.05070796e+06\n",
            "  1.05977520e+06 -6.96510177e+05 -1.01303567e+06]\n",
            "Taxa de aprendizado =  1e-08  W =  [ 0.73623307  0.01411244  1.83866418  0.11579993  0.41134315  1.97621344\n",
            " -1.38481212 -1.32584361  0.97753466 -1.18586687  1.99687249 -0.42416229\n",
            " -0.72776831  2.02112183  1.53251805  1.943205    0.97168007 -0.88830449\n",
            "  1.94480765]\n",
            "Taxa de aprendizado =  1e-10  W =  [-0.2681136   0.80269681  0.94782939 -0.15458683  0.61396346  0.92260269\n",
            "  0.37628578 -1.09953129  0.2979848   1.32682115 -0.69500933 -0.14977031\n",
            " -0.43494664  1.85006366  0.67272456  0.40767799 -0.76977529  0.53912428\n",
            " -0.67478972]\n"
          ]
        }
      ],
      "source": [
        "lr1 = 1e-6\n",
        "max_iter = 1000\n",
        "sgd_linear_lr1 = SGDRegression(learning_rate=lr1, max_iter=max_iter)\n",
        "sgd_linear_lr1.fit(X_train, y_train) #treinamento\n",
        "print('Taxa de aprendizado = ', lr1, ' W = ', sgd_linear_lr1.ws)\n",
        "\n",
        "lr2 = 1e-8\n",
        "max_iter = 1000\n",
        "sgd_linear_lr2 = SGDRegression(learning_rate=lr2, max_iter=max_iter)\n",
        "sgd_linear_lr2.fit(X_train, y_train) #treinamento\n",
        "print('Taxa de aprendizado = ', lr2, ' W = ', sgd_linear_lr2.ws)\n",
        "\n",
        "lr3 = 1e-10\n",
        "max_iter = 1000\n",
        "sgd_linear_lr3 = SGDRegression(learning_rate=lr3, max_iter=max_iter)\n",
        "sgd_linear_lr3.fit(X_train, y_train) #treinamento\n",
        "print('Taxa de aprendizado = ', lr3, ' W = ', sgd_linear_lr3.ws)"
      ]
    },
    {
      "cell_type": "code",
      "execution_count": 21,
      "metadata": {
        "colab": {
          "base_uri": "https://localhost:8080/"
        },
        "id": "bCPSK-5Tr68p",
        "outputId": "ea556d7b-3663-4efe-fdfb-d7ecbc84bb7a"
      },
      "outputs": [
        {
          "output_type": "stream",
          "name": "stdout",
          "text": [
            "MSE LR1 =  49463026852018.81\n",
            "MSE LR2 =  30.003250868798748\n",
            "MSE LR3 =  12.079448490338336\n"
          ]
        }
      ],
      "source": [
        "# Calcule e compare o MSE no conjunto de testes para cada modelo\n",
        "y_pred_lr1 = sgd_linear_lr1.predict(X_test)\n",
        "print('MSE LR1 = ', mse_loss(y_pred_lr1, y_test))\n",
        "\n",
        "y_pred_lr2 = sgd_linear_lr2.predict(X_test)\n",
        "print('MSE LR2 = ', mse_loss(y_pred_lr2, y_test))\n",
        "\n",
        "y_pred_lr3 = sgd_linear_lr3.predict(X_test)\n",
        "print('MSE LR3 = ', mse_loss(y_pred_lr3, y_test))"
      ]
    },
    {
      "cell_type": "markdown",
      "metadata": {
        "id": "p6kB3Y4mKof_"
      },
      "source": [
        "Regressão linear através de Equação Normal"
      ]
    },
    {
      "cell_type": "code",
      "execution_count": 22,
      "metadata": {
        "id": "bOsDG8Kge3x_"
      },
      "outputs": [],
      "source": [
        "class NERegression():\n",
        "    def __init__(self):\n",
        "      self.ws = None #pesos\n",
        "    \n",
        "    def predict(self, X):\n",
        "      return X.dot(self.ws)\n",
        "\n",
        "    def fit(self, X, y):\n",
        "      self.ws = np.linalg.inv(X_train.T.dot(X_train)).dot(X_train.T).dot(y_train)\n"
      ]
    },
    {
      "cell_type": "code",
      "execution_count": 23,
      "metadata": {
        "colab": {
          "base_uri": "https://localhost:8080/"
        },
        "id": "hqNlsGU1hZIp",
        "outputId": "b2ed20cf-dfb3-499f-b655-72a0f54fdb14"
      },
      "outputs": [
        {
          "output_type": "stream",
          "name": "stdout",
          "text": [
            "W =  [ 6.15122103e-16  2.34093543e-02 -3.04013226e-01  1.29170777e+00\n",
            "  8.13649557e-02  2.35068569e-02 -1.56797315e-02 -3.47664398e-02\n",
            "  1.13029199e-01 -1.32136802e+00  1.04332073e-01  1.92672145e-02\n",
            " -2.59061797e-01 -6.62127218e-03  2.00427413e-03 -3.16977422e-02\n",
            "  3.34816665e-02  7.06640733e-02  3.02588343e-01]\n"
          ]
        }
      ],
      "source": [
        "ne = NERegression()\n",
        "ne.fit(X_train, y_train)\n",
        "print(\"W = \", ne.ws)"
      ]
    },
    {
      "cell_type": "code",
      "execution_count": 24,
      "metadata": {
        "colab": {
          "base_uri": "https://localhost:8080/"
        },
        "id": "ZFS1xpPui2rj",
        "outputId": "f80a1162-3c4a-4750-ba6c-4c7162c7d8a0"
      },
      "outputs": [
        {
          "output_type": "execute_result",
          "data": {
            "text/plain": [
              "0.1999626940492603"
            ]
          },
          "metadata": {},
          "execution_count": 24
        }
      ],
      "source": [
        "y_pred_normal = ne.predict(X_test)\n",
        "\n",
        "mse_loss(y_pred_normal, y_test)"
      ]
    },
    {
      "cell_type": "markdown",
      "metadata": {
        "id": "hrDXPt7mhj9z"
      },
      "source": [
        "   > **Quais são as suas conclusões? (1-2 parágrafos):**\n"
      ]
    },
    {
      "cell_type": "markdown",
      "source": [
        "Pode-se notar, inicialmente, que o MSE do modelo com otimização feita pelo gradiente é muito dependente do valor definido para a taxa de aprendizado. Taxas relativamente altas levam a valores de MSE extremamente altos, fazendo com que o resultado obtido não seja útil para nada. Já utilizando taxas mais baixas, podemos notar que o MSE se torna bem menor, mas que ainda é muito do que utilizando a equação normal.\n",
        "\n",
        "A equação normal nos traz um valor que pode ser considerado ótimo, com um MSE muito próximo de zero, o que nos leva a crer que possuimos um ótimo modelo de regressão linear."
      ],
      "metadata": {
        "id": "v59lhEyilJTQ"
      }
    },
    {
      "cell_type": "markdown",
      "metadata": {
        "id": "XrPl7jKgJPW6"
      },
      "source": [
        "3. (2 points) Às vezes, funções mais complexas geram melhores predições. Desenvolva e avalie um modelo de regressão polinomial.\n",
        "\n"
      ]
    },
    {
      "cell_type": "code",
      "execution_count": 25,
      "metadata": {
        "id": "GjGbg41PMHR9"
      },
      "outputs": [],
      "source": [
        "from sklearn.preprocessing import PolynomialFeatures\n",
        "from sklearn.linear_model import LinearRegression\n",
        "\n",
        "class PolyFeatures():\n",
        "    def __init__(self, degree):\n",
        "      self.degree = degree #grau da nova matriz X\n",
        "\n",
        "    def transform(self, X):\n",
        "      poly_features = PolynomialFeatures(self.degree)\n",
        "\n",
        "      X_poly = poly_features.fit_transform(X)\n",
        "      return X_poly"
      ]
    },
    {
      "cell_type": "code",
      "source": [
        "degree = 2 #escolha o grau da regressão polinomial\n",
        "poly_feat = PolyFeatures(degree)\n",
        "X_train_poly = poly_feat.transform(X_train)"
      ],
      "metadata": {
        "id": "SNcukUWa3iBA"
      },
      "execution_count": 26,
      "outputs": []
    },
    {
      "cell_type": "code",
      "source": [
        "lr = 1e-15 #substitua por uma taxa de aprendizado válida\n",
        "max_iter = 10 #substitua por um número máximo de iterações válido\n",
        "sgd_poly = SGDRegression(learning_rate=lr, max_iter=max_iter)\n",
        "sgd_poly.fit(X_train_poly, y_train) #treinamento\n",
        "print('W = ', sgd_poly.ws)"
      ],
      "metadata": {
        "id": "Lur4FMTd8iBa",
        "outputId": "b731c508-ae68-409e-8ea2-1a2ac8e75dd9",
        "colab": {
          "base_uri": "https://localhost:8080/"
        }
      },
      "execution_count": 27,
      "outputs": [
        {
          "output_type": "stream",
          "name": "stdout",
          "text": [
            "W =  [ 0.03183056 -0.63584608  0.6764333   0.57659082 -0.20829876  0.39600671\n",
            " -1.09306151 -1.49125759  0.4393917   0.1666735   0.63503144  2.38314478\n",
            "  0.94447949 -0.91282223  1.11701629 -1.31590741 -0.4615846  -0.06824161\n",
            "  1.71334272 -0.74475482 -0.82643854 -0.09845252 -0.66347829  1.12663592\n",
            " -1.07993151 -1.14746865 -0.43782004 -0.49803245  1.92953205  0.94942081\n",
            "  0.08755124 -1.22543552  0.84436298 -1.00021535 -1.5447711   1.18802979\n",
            "  0.31694261  0.92085882  0.31872765  0.85683061 -0.65102559 -1.03424284\n",
            "  0.68159452 -0.80340966 -0.68954978 -0.4555325   0.01747916 -0.35399391\n",
            " -1.37495129 -0.6436184  -2.22340315  0.62523145 -1.60205766 -1.10438334\n",
            "  0.05216508 -0.739563    1.5430146  -1.29285691  0.26705087 -0.03928282\n",
            " -1.1680935   0.52327666 -0.17154633  0.77179055  0.82350415  2.16323595\n",
            "  1.33652795 -0.36918184 -0.23937918  1.0996596   0.65526373  0.64013153\n",
            " -1.61695604 -0.02432612 -0.73803091  0.2799246  -0.09815039  0.91017891\n",
            "  0.31721822  0.78632796 -0.4664191  -0.94444626 -0.41004969 -0.01702041\n",
            "  0.37915174  2.25930895 -0.04225715 -0.955945   -0.34598178 -0.46359597\n",
            "  0.48148147 -1.54079701  0.06326199  0.15650654  0.23218104 -0.59731607\n",
            " -0.23792173 -1.42406091 -0.49331988 -0.54286148  0.41605005 -1.15618243\n",
            "  0.7811981   1.49448454 -2.06998503  0.42625873  0.67690804 -0.63743703\n",
            " -0.39727181 -0.13288058 -0.29779088 -0.30901297 -1.67600381  1.15233156\n",
            "  1.07961859 -0.81336426 -1.46642433  0.52106488 -0.57578797  0.14195316\n",
            " -0.31932842  0.69153875  0.69474914 -0.72559738 -1.38336396 -1.5829384\n",
            "  0.61037938 -1.18885926 -0.50681635 -0.59631404 -0.0525673  -1.93627981\n",
            "  0.1887786   0.52389102  0.08842209 -0.31088617  0.09740017  0.39904635\n",
            " -2.77259276  1.95591231  0.39009332 -0.65240858 -0.39095338  0.49374178\n",
            " -0.11610394 -2.03068447  2.06449286 -0.11054066  1.02017271 -0.69204985\n",
            "  1.53637705  0.28634369  0.60884383 -1.04525337  1.21114529  0.68981816\n",
            "  1.30184623 -0.62808756 -0.48102712  2.3039167  -1.06001582 -0.1359497\n",
            "  1.13689136  0.09772497  0.58295368 -0.39944903  0.37005589 -1.30652685\n",
            "  1.65813068 -0.11816405 -0.6801782   0.66638308 -0.46071979 -1.33425847\n",
            " -1.34671751  0.69377315 -0.15957344 -0.13370156  1.07774381 -1.12682581\n",
            " -0.73067775 -0.38487981  0.09435159 -0.04217145 -0.28688719 -0.0616264\n",
            " -0.10730528 -0.71960439 -0.81299299  0.27451636 -0.89091508 -1.15735526\n",
            " -0.31229225 -0.15766702  2.2567235  -0.70470027  0.94326073  0.74718834\n",
            " -1.18894496  0.77325298 -1.18388064 -2.65917224  0.60631952 -1.75589058\n",
            "  0.45093446 -0.6840109   1.6595508   1.0685094  -0.4533858  -0.68783761]\n"
          ]
        }
      ]
    },
    {
      "cell_type": "code",
      "execution_count": 28,
      "metadata": {
        "colab": {
          "base_uri": "https://localhost:8080/",
          "height": 290
        },
        "id": "5iknRtHe05gB",
        "outputId": "9abf9941-0208-412a-ecca-816b19a3eaf8"
      },
      "outputs": [
        {
          "output_type": "display_data",
          "data": {
            "text/plain": [
              "<Figure size 432x288 with 1 Axes>"
            ],
            "image/png": "[encoded data removed]"
          },
          "metadata": {
            "needs_background": "light"
          }
        }
      ],
      "source": [
        "#Evolução da loss ao longo do tempo\n",
        "plot_history(sgd_poly)"
      ]
    },
    {
      "cell_type": "code",
      "source": [
        "# EXTRA - apenas para meio de comparação com os modelos disponibilizados pelo sklearn\n",
        "\n",
        "degree = 2 #escolha o grau da regressão polinomial\n",
        "poly_feat = PolyFeatures(degree)\n",
        "X_train_poly = poly_feat.transform(X_train)\n",
        "\n",
        "pol_reg = LinearRegression()\n",
        "pol_reg.fit(X_train_poly, y_train)\n",
        "\n",
        "y_pred_pol = pol_reg.predict(poly_feat.transform(X_test))\n",
        "mse_loss(y_pred_pol, y_test)"
      ],
      "metadata": {
        "id": "AxwfeRUm_4g0",
        "outputId": "99d0aa08-5303-4aed-90e4-1ad17ea5d8d7",
        "colab": {
          "base_uri": "https://localhost:8080/"
        }
      },
      "execution_count": 29,
      "outputs": [
        {
          "output_type": "execute_result",
          "data": {
            "text/plain": [
              "0.18196483135448274"
            ]
          },
          "metadata": {},
          "execution_count": 29
        }
      ]
    },
    {
      "cell_type": "markdown",
      "metadata": {
        "id": "rBLKtosaLaCw"
      },
      "source": [
        "\\\n",
        " > **Quais as suas conclusões?(1-2 parágrafos):**\n",
        "\n",
        " \n"
      ]
    },
    {
      "cell_type": "markdown",
      "source": [
        "Avaliando o modelo de regressão aqui implementado, podemos notar que o uso de uma função mais complexa não necessariamente trouxe bons resultados. Pode-se notar que, utilizando o modelo criado por nós com a otimização pelo gradiente, a função de loss alcança valores muito altos, o que indica que nosso modelo não demonstra um bom desempenho com o uso desta estratégia.\n",
        "\n",
        "Por outro lado, apenas como ponto de comparação extra, efetuamos o treinamento de um modelo utilizando ferramentas já disponibilizas pelo sklearn, para a execução de uma regressão linear, e, para este caso, podemos notar que o uso de uma função mais complexa traz ótimos resultados, mas que talvez não seja tão útil assim aumentar a complexidade da função, pois o valor fica bem próximo de quando se faz o uso da equação normal, ou do SGD disponibilizado pelo próprio sklearn"
      ],
      "metadata": {
        "id": "tf7iQNzGoydi"
      }
    },
    {
      "cell_type": "markdown",
      "metadata": {
        "id": "ldSh1vtWK5Zk"
      },
      "source": [
        "4. (1 point) Avalie os gráficos da função de custo vs. número de iterações no conjunto de treino. Quais conclusões você pode chegar a respeito dos modelos de GD ao analisar os gráficos?"
      ]
    },
    {
      "cell_type": "code",
      "execution_count": 30,
      "metadata": {
        "id": "mg7aNkl_LG4P",
        "outputId": "990c2ef1-77b8-4cd1-c204-85817c54e561",
        "colab": {
          "base_uri": "https://localhost:8080/",
          "height": 279
        }
      },
      "outputs": [
        {
          "output_type": "display_data",
          "data": {
            "text/plain": [
              "<Figure size 432x288 with 1 Axes>"
            ],
            "image/png": "[encoded data removed]"
          },
          "metadata": {
            "needs_background": "light"
          }
        }
      ],
      "source": [
        "#print('Função de custo vs. Numero de iterações GD linear')\n",
        "plot_history(sgd_linear)"
      ]
    },
    {
      "cell_type": "code",
      "execution_count": 31,
      "metadata": {
        "colab": {
          "base_uri": "https://localhost:8080/",
          "height": 307
        },
        "id": "3lPon5K2KDE-",
        "outputId": "86dfd8cf-2ef7-4077-ab3b-85f0c4ffd110"
      },
      "outputs": [
        {
          "output_type": "stream",
          "name": "stdout",
          "text": [
            "Função de custo vs. Numero de iterações GD linear com taxa de aprendizado =   1e-06\n"
          ]
        },
        {
          "output_type": "display_data",
          "data": {
            "text/plain": [
              "<Figure size 432x288 with 1 Axes>"
            ],
            "image/png": "[encoded data removed]"
          },
          "metadata": {
            "needs_background": "light"
          }
        }
      ],
      "source": [
        "print('Função de custo vs. Numero de iterações GD linear com taxa de aprendizado =  ', lr1)\n",
        "plot_history(sgd_linear_lr1)"
      ]
    },
    {
      "cell_type": "code",
      "execution_count": 32,
      "metadata": {
        "colab": {
          "base_uri": "https://localhost:8080/",
          "height": 296
        },
        "id": "S5zm8CwbKIz_",
        "outputId": "b54e4c82-c369-46f4-b066-bd930a6271dc"
      },
      "outputs": [
        {
          "output_type": "stream",
          "name": "stdout",
          "text": [
            "Função de custo vs. Numero de iterações GD linear com taxa de aprendizado =   1e-08\n"
          ]
        },
        {
          "output_type": "display_data",
          "data": {
            "text/plain": [
              "<Figure size 432x288 with 1 Axes>"
            ],
            "image/png": "[encoded data removed]"
          },
          "metadata": {
            "needs_background": "light"
          }
        }
      ],
      "source": [
        "print('Função de custo vs. Numero de iterações GD linear com taxa de aprendizado =  ', lr2)\n",
        "plot_history(sgd_linear_lr2)"
      ]
    },
    {
      "cell_type": "code",
      "execution_count": 33,
      "metadata": {
        "colab": {
          "base_uri": "https://localhost:8080/",
          "height": 296
        },
        "id": "q4D-O0TeKMQb",
        "outputId": "cb8e0479-8aa1-4a1f-cb62-f6843c6712bd"
      },
      "outputs": [
        {
          "output_type": "stream",
          "name": "stdout",
          "text": [
            "Função de custo vs. Numero de iterações GD linear com taxa de aprendizado =   1e-10\n"
          ]
        },
        {
          "output_type": "display_data",
          "data": {
            "text/plain": [
              "<Figure size 432x288 with 1 Axes>"
            ],
            "image/png": "[encoded data removed]"
          },
          "metadata": {
            "needs_background": "light"
          }
        }
      ],
      "source": [
        "print('Função de custo vs. Numero de iterações GD linear com taxa de aprendizado =  ', lr3)\n",
        "plot_history(sgd_linear_lr3)"
      ]
    },
    {
      "cell_type": "code",
      "execution_count": 34,
      "metadata": {
        "colab": {
          "base_uri": "https://localhost:8080/",
          "height": 307
        },
        "id": "kh1waz6y4MbV",
        "outputId": "e75a492f-f75b-4bbc-c4a7-65b0c24cd2a7"
      },
      "outputs": [
        {
          "output_type": "stream",
          "name": "stdout",
          "text": [
            "Função de custo vs. Numero de iterações GD Polinomial\n"
          ]
        },
        {
          "output_type": "display_data",
          "data": {
            "text/plain": [
              "<Figure size 432x288 with 1 Axes>"
            ],
            "image/png": "[encoded data removed]"
          },
          "metadata": {
            "needs_background": "light"
          }
        }
      ],
      "source": [
        "print('Função de custo vs. Numero de iterações GD Polinomial')\n",
        "plot_history(sgd_poly)"
      ]
    },
    {
      "cell_type": "markdown",
      "metadata": {
        "id": "vbGOQzcsNSOm"
      },
      "source": [
        "> **Escreva aqui suas conclusões (2-4 parágrafos)**\n"
      ]
    },
    {
      "cell_type": "markdown",
      "source": [
        "Inicialmente, é possível notar mais uma vez o efeito da taxa de learning rate para os modelos aqui implementados. Podemos avaliar tal parâmetro como o mais influente, pois ele afeta diretamente a evolução do loss ao longo das iterações. Pode ser notado que um valor maior para o learning rate leva a um valor de loss muito alto, e até de maneira extrema, em certos casos, como pode ser visto no modelo com lr1, que traz um loss com valores da ordem de 10e15"
      ],
      "metadata": {
        "id": "fWVfGDTarxXa"
      }
    },
    {
      "cell_type": "markdown",
      "metadata": {
        "id": "kdSGS4brHnAi"
      },
      "source": [
        "## Prazo: 19 de Abril, Terça-feira, 23:59\n",
        "\n",
        "Política de penalidade para submissões atrasadas: Você não está sendo encorajada(o) a submeter o trabalho depois da data de submissão. Entretanto, caso isso aconteça, a nota será penalizada da seguinte forma:\n",
        "\n",
        "- 20 de Abril 23:59 : nota * 0.75\n",
        "- 21 de Abril 23:59 : nota * 0.5\n",
        "- 22 de Abril 23:59 : nota * 0.25\n"
      ]
    },
    {
      "cell_type": "markdown",
      "metadata": {
        "id": "joN9pvZJIfW5"
      },
      "source": [
        "## Submissão\n",
        "- Submita seu notebook no Google Classroom. (Em português ou inglês).\n",
        "\n",
        "- Apenas UMA pessoa da dupla precisa enviar o notebook.\n",
        "\n",
        "- Não esqueça de colocar seus respectivos nomes & RAs.\n",
        "\n",
        "- **Esta atividade NÃO é individual, deve ser realizada em dupla.**"
      ]
    }
  ],
  "metadata": {
    "colab": {
      "collapsed_sections": [],
      "name": "linear_regression_assignment_02.ipynb",
      "provenance": [],
      "include_colab_link": true
    },
    "interpreter": {
      "hash": "a5653b54fe6cf6e2fae9bcefb5bfcf782e994099dd1c9a4571168f76f9b0455a"
    },
    "kernelspec": {
      "display_name": "Python 3 (ipykernel)",
      "language": "python",
      "name": "python3"
    },
    "language_info": {
      "codemirror_mode": {
        "name": "ipython",
        "version": 3
      },
      "file_extension": ".py",
      "mimetype": "text/x-python",
      "name": "python",
      "nbconvert_exporter": "python",
      "pygments_lexer": "ipython3",
      "version": "3.9.11"
    }
  },
  "nbformat": 4,
  "nbformat_minor": 0
}